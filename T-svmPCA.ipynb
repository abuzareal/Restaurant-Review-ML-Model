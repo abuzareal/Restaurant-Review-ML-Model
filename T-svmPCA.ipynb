{
 "cells": [
  {
   "cell_type": "code",
   "execution_count": 1,
   "metadata": {},
   "outputs": [],
   "source": [
    "import pandas as pd\n",
    "import numpy as np\n",
    "import matplotlib.pyplot as plt"
   ]
  },
  {
   "cell_type": "code",
   "execution_count": 2,
   "metadata": {},
   "outputs": [],
   "source": [
    "dataset=pd.read_csv('Sarcasm Detection.tsv',delimiter='\\t',quoting=3)"
   ]
  },
  {
   "cell_type": "code",
   "execution_count": 3,
   "metadata": {},
   "outputs": [
    {
     "name": "stderr",
     "output_type": "stream",
     "text": [
      "[nltk_data] Downloading package stopwords to\n",
      "[nltk_data]     C:\\Users\\Hp\\AppData\\Roaming\\nltk_data...\n",
      "[nltk_data]   Package stopwords is already up-to-date!\n",
      "[nltk_data] Downloading package wordnet to\n",
      "[nltk_data]     C:\\Users\\Hp\\AppData\\Roaming\\nltk_data...\n",
      "[nltk_data]   Package wordnet is already up-to-date!\n"
     ]
    }
   ],
   "source": [
    "import re\n",
    "import nltk\n",
    "nltk.download('stopwords')\n",
    "nltk.download('wordnet')\n",
    "from nltk.corpus import stopwords\n",
    "from nltk.stem.porter import PorterStemmer\n",
    "from nltk.stem import WordNetLemmatizer\n",
    "corpus=[]\n",
    "for i in range(0,1000):\n",
    "    review =re.sub('[^a-zA-Z]',' ',dataset['Review'][i]) #we are replacing all the punctions with white spaces\n",
    "    review=review.lower()  #converting the review into lower case\n",
    "    review=review.split() # converting our statement into list of words\n",
    "    #ps=PorterStemmer()\n",
    "    wordnet=WordNetLemmatizer()\n",
    "    #here 'word' is a variable which will contain all the words from review list one by one\n",
    "    #review=[ps.stem(word) for word in review if not word in set(stopwords.words('english'))]\n",
    "    all_stopwords=stopwords.words('english') #will collect all the stop words\n",
    "    all_stopwords.remove('not') #remove not form the stopword\n",
    "#   review=[ps.stem(word) for word in review if not word in set(all_stopwords)]\n",
    "    review=[wordnet.lemmatize(word) for word in review if not word in set(all_stopwords)]\n",
    "    #if and only if the word is not present in the stopword will it be allowed to pass on the object of the stemmer class\n",
    "    review=' '.join(review) # joining all the words of the review list back together to create the cleaned statement review\n",
    "    corpus.append(review)"
   ]
  },
  {
   "cell_type": "code",
   "execution_count": 4,
   "metadata": {},
   "outputs": [],
   "source": [
    "# print(corpus)"
   ]
  },
  {
   "cell_type": "markdown",
   "metadata": {},
   "source": [
    "##### BAG OF WORD"
   ]
  },
  {
   "cell_type": "code",
   "execution_count": 5,
   "metadata": {},
   "outputs": [],
   "source": [
    "from sklearn.feature_extraction.text import CountVectorizer\n",
    "cv=CountVectorizer()\n",
    "#here while creating the object of the countvectorizer class we need to input one important parameter\n",
    "#and that parameter is max_features which decided after we get the total number of columns\n",
    "x=cv.fit_transform(corpus).toarray()\n",
    "y=dataset.iloc[:,-1].values"
   ]
  },
  {
   "cell_type": "code",
   "execution_count": 6,
   "metadata": {},
   "outputs": [],
   "source": [
    "# from sklearn.svm import SVC\n",
    "# classifier=SVC(kernel='linear',random_state=23)"
   ]
  },
  {
   "cell_type": "code",
   "execution_count": 7,
   "metadata": {},
   "outputs": [],
   "source": [
    "# from sklearn.preprocessing import StandardScaler\n",
    "# sc = StandardScaler()\n",
    "# x = sc.fit_transform(x)\n"
   ]
  },
  {
   "cell_type": "code",
   "execution_count": 8,
   "metadata": {},
   "outputs": [],
   "source": [
    "from sklearn.model_selection import train_test_split\n",
    "x_train,x_test,y_train,y_test=train_test_split(x,y,test_size=0.2,random_state=325)"
   ]
  },
  {
   "cell_type": "markdown",
   "metadata": {},
   "source": [
    "### Applying PCA"
   ]
  },
  {
   "cell_type": "code",
   "execution_count": 9,
   "metadata": {},
   "outputs": [
    {
     "name": "stdout",
     "output_type": "stream",
     "text": [
      "[2.59917395e-02 2.15110881e-02 2.06863642e-02 1.73158010e-02\n",
      " 1.63072970e-02 1.46712691e-02 1.35944563e-02 1.18567437e-02\n",
      " 1.01326525e-02 9.94257669e-03 8.87054062e-03 8.24544565e-03\n",
      " 7.66041880e-03 7.33570144e-03 7.19010857e-03 6.91900769e-03\n",
      " 6.77661263e-03 6.61730016e-03 6.42235346e-03 6.33371740e-03\n",
      " 6.28969262e-03 6.14306089e-03 6.12609930e-03 5.95490250e-03\n",
      " 5.82046521e-03 5.76608079e-03 5.66571237e-03 5.57881335e-03\n",
      " 5.37902788e-03 5.31114178e-03 5.27163413e-03 5.10908689e-03\n",
      " 5.04512853e-03 4.99445358e-03 4.91899820e-03 4.89384735e-03\n",
      " 4.76837203e-03 4.72465146e-03 4.67643607e-03 4.65986636e-03\n",
      " 4.57687706e-03 4.52424458e-03 4.46419560e-03 4.43830537e-03\n",
      " 4.36393959e-03 4.26813154e-03 4.24025721e-03 4.16472225e-03\n",
      " 4.15631998e-03 4.11375981e-03 4.09351139e-03 4.03086393e-03\n",
      " 3.99075466e-03 3.89734521e-03 3.82821416e-03 3.80119666e-03\n",
      " 3.77548236e-03 3.73046642e-03 3.68551399e-03 3.66231814e-03\n",
      " 3.63809514e-03 3.61334440e-03 3.58229132e-03 3.52420831e-03\n",
      " 3.49170533e-03 3.46968732e-03 3.37647190e-03 3.36256280e-03\n",
      " 3.34081207e-03 3.31784450e-03 3.30436649e-03 3.24788104e-03\n",
      " 3.23807666e-03 3.21023078e-03 3.18682143e-03 3.14812068e-03\n",
      " 3.11748601e-03 3.08194198e-03 3.05293571e-03 3.03265182e-03\n",
      " 3.01869980e-03 2.98045329e-03 2.93929941e-03 2.92303936e-03\n",
      " 2.90572183e-03 2.83723225e-03 2.81328313e-03 2.80452641e-03\n",
      " 2.77836728e-03 2.77503852e-03 2.74240269e-03 2.74119233e-03\n",
      " 2.71593053e-03 2.68995740e-03 2.67589022e-03 2.66038469e-03\n",
      " 2.64492742e-03 2.62574280e-03 2.61457412e-03 2.58110955e-03\n",
      " 2.57323894e-03 2.56156645e-03 2.52047538e-03 2.51140774e-03\n",
      " 2.47168815e-03 2.44904309e-03 2.44020921e-03 2.42868522e-03\n",
      " 2.41187198e-03 2.38522361e-03 2.37185738e-03 2.35752431e-03\n",
      " 2.34516048e-03 2.33143318e-03 2.31084470e-03 2.29489220e-03\n",
      " 2.28784494e-03 2.26898595e-03 2.25585416e-03 2.25304671e-03\n",
      " 2.23114007e-03 2.22130248e-03 2.20504920e-03 2.20028385e-03\n",
      " 2.18354952e-03 2.17318453e-03 2.15267799e-03 2.14967143e-03\n",
      " 2.12205126e-03 2.10906900e-03 2.10257748e-03 2.08907003e-03\n",
      " 2.08548502e-03 2.07499291e-03 2.06178810e-03 2.04059037e-03\n",
      " 2.01971633e-03 1.99832394e-03 1.98759606e-03 1.97766701e-03\n",
      " 1.97352923e-03 1.97109342e-03 1.96778614e-03 1.94011907e-03\n",
      " 1.93488534e-03 1.91029355e-03 1.89505693e-03 1.88201864e-03\n",
      " 1.86513762e-03 1.85746524e-03 1.84594408e-03 1.83208300e-03\n",
      " 1.82975714e-03 1.82234847e-03 1.81606365e-03 1.80337768e-03\n",
      " 1.79449475e-03 1.78098351e-03 1.77518240e-03 1.76167921e-03\n",
      " 1.75656882e-03 1.74450268e-03 1.73862947e-03 1.73693028e-03\n",
      " 1.71904441e-03 1.71542758e-03 1.70818215e-03 1.69147635e-03\n",
      " 1.68488107e-03 1.67431414e-03 1.66028323e-03 1.65204217e-03\n",
      " 1.64297353e-03 1.63350225e-03 1.62809695e-03 1.61336560e-03\n",
      " 1.61161981e-03 1.60939263e-03 1.59892597e-03 1.58205780e-03\n",
      " 1.57740261e-03 1.57082370e-03 1.56286833e-03 1.54131967e-03\n",
      " 1.53587799e-03 1.52905383e-03 1.52214667e-03 1.51127125e-03\n",
      " 1.50033894e-03 1.48305129e-03 1.48183341e-03 1.47147702e-03\n",
      " 1.46571221e-03 1.46000462e-03 1.45807094e-03 1.44979988e-03\n",
      " 1.43203345e-03 1.42743380e-03 1.42378401e-03 1.42084185e-03\n",
      " 1.41293934e-03 1.40872347e-03 1.39567949e-03 1.38780439e-03\n",
      " 1.37683397e-03 1.37074048e-03 1.36288802e-03 1.35365926e-03\n",
      " 1.34683299e-03 1.34345630e-03 1.33932698e-03 1.33184437e-03\n",
      " 1.32188469e-03 1.31541074e-03 1.30619954e-03 1.29841215e-03\n",
      " 1.29430442e-03 1.28955038e-03 1.28397022e-03 1.27889667e-03\n",
      " 1.26698534e-03 1.26610581e-03 1.26329812e-03 1.25481404e-03\n",
      " 1.25167942e-03 1.24230016e-03 1.23015313e-03 1.22610043e-03\n",
      " 1.22238334e-03 1.21958826e-03 1.21040604e-03 1.20370856e-03\n",
      " 1.20105806e-03 1.19665943e-03 1.19267863e-03 1.18628223e-03\n",
      " 1.17984911e-03 1.17275988e-03 1.16708347e-03 1.16461532e-03\n",
      " 1.15204315e-03 1.14851592e-03 1.14653636e-03 1.13850030e-03\n",
      " 1.13397713e-03 1.13330572e-03 1.12794897e-03 1.12190961e-03\n",
      " 1.11201226e-03 1.10815030e-03 1.10143394e-03 1.09867400e-03\n",
      " 1.08759920e-03 1.07946857e-03 1.07405394e-03 1.07173266e-03\n",
      " 1.06607055e-03 1.06172376e-03 1.05724720e-03 1.05099092e-03\n",
      " 1.04915438e-03 1.03895463e-03 1.03761040e-03 1.03208784e-03\n",
      " 1.03054199e-03 1.02544387e-03 1.01993160e-03 1.01182085e-03\n",
      " 1.01043099e-03 1.00267131e-03 9.96327868e-04 9.94845270e-04\n",
      " 9.84421797e-04 9.81675600e-04 9.77554532e-04 9.71881637e-04\n",
      " 9.70054314e-04 9.64000335e-04 9.59928471e-04 9.48792174e-04\n",
      " 9.46629753e-04 9.41954823e-04 9.35402912e-04 9.30504151e-04\n",
      " 9.27215353e-04 9.21282423e-04 9.18275245e-04 9.12932560e-04\n",
      " 9.12533864e-04 9.05760108e-04 9.01673886e-04 8.93653834e-04\n",
      " 8.91212279e-04 8.83122546e-04 8.80965140e-04 8.73421097e-04\n",
      " 8.71747158e-04 8.67626641e-04 8.67172275e-04 8.63262631e-04\n",
      " 8.58334325e-04 8.53368494e-04 8.50350952e-04 8.46940364e-04\n",
      " 8.41619661e-04 8.36737637e-04 8.32986640e-04 8.30881678e-04\n",
      " 8.27123153e-04 8.21224863e-04 8.20847077e-04 8.16681679e-04\n",
      " 8.13162303e-04 8.08610920e-04 8.06157357e-04 8.04335007e-04\n",
      " 8.00352210e-04 7.98620991e-04 7.90417226e-04 7.85480059e-04\n",
      " 7.81483702e-04 7.76013377e-04 7.75425402e-04 7.70479828e-04\n",
      " 7.68400454e-04 7.64102972e-04 7.62554597e-04 7.59351689e-04\n",
      " 7.56219914e-04 7.54627311e-04 7.49451038e-04 7.45011018e-04\n",
      " 7.40979658e-04 7.37821027e-04 7.36064198e-04 7.33613001e-04\n",
      " 7.30498006e-04 7.26940658e-04 7.23390664e-04 7.18131991e-04\n",
      " 7.16774189e-04 7.12035248e-04 7.09805710e-04 7.05502924e-04\n",
      " 7.03116543e-04 6.99813418e-04 6.98251340e-04 6.93491035e-04\n",
      " 6.91327929e-04 6.84179983e-04 6.81673561e-04 6.78967380e-04\n",
      " 6.76830399e-04 6.70976792e-04 6.64970917e-04 6.61444185e-04\n",
      " 6.59890191e-04 6.57885874e-04 6.50712919e-04 6.48390717e-04\n",
      " 6.47839919e-04 6.46921118e-04 6.37912784e-04 6.36772580e-04\n",
      " 6.33635585e-04 6.29904817e-04 6.27873583e-04 6.23899852e-04\n",
      " 6.20853568e-04 6.16191098e-04 6.13107879e-04 6.10415815e-04\n",
      " 6.08537605e-04 6.07763229e-04 6.05192652e-04 6.00252312e-04\n",
      " 5.96339404e-04 5.93266825e-04 5.91966717e-04 5.87697333e-04\n",
      " 5.86855781e-04 5.80417995e-04 5.79181536e-04 5.78470503e-04\n",
      " 5.74310291e-04 5.70984336e-04 5.68848468e-04 5.64922936e-04\n",
      " 5.64693877e-04 5.63166997e-04 5.61191282e-04 5.55894095e-04\n",
      " 5.54712872e-04 5.52940526e-04 5.50386632e-04 5.48379216e-04\n",
      " 5.44162409e-04 5.43109217e-04 5.41526765e-04 5.40678170e-04\n",
      " 5.37834638e-04 5.34137310e-04 5.33716739e-04 5.31196279e-04\n",
      " 5.30967743e-04 5.25653270e-04 5.22543295e-04 5.20802541e-04\n",
      " 5.17236412e-04 5.16642353e-04 5.13482142e-04 5.09583068e-04\n",
      " 5.08820941e-04 5.03976885e-04 5.03113802e-04 5.02526797e-04\n",
      " 4.97625594e-04 4.93461778e-04 4.92532432e-04 4.86761525e-04\n",
      " 4.86473169e-04 4.81486351e-04 4.80376816e-04 4.79314409e-04\n",
      " 4.78222471e-04 4.77140688e-04 4.75699748e-04 4.72916737e-04\n",
      " 4.70737372e-04 4.68579888e-04 4.66868902e-04 4.64124529e-04\n",
      " 4.59327497e-04 4.57305009e-04 4.55082951e-04 4.54282080e-04\n",
      " 4.51789034e-04 4.48437621e-04 4.47732996e-04 4.45511680e-04\n",
      " 4.42128589e-04 4.41250032e-04 4.38586680e-04 4.38204813e-04\n",
      " 4.35012448e-04 4.33441833e-04 4.33061114e-04 4.31507659e-04\n",
      " 4.30933599e-04 4.30933599e-04 4.30933599e-04 4.30933599e-04\n",
      " 4.30933599e-04 4.30933599e-04 4.29650863e-04 4.29284617e-04\n",
      " 4.28597081e-04 4.26290079e-04 4.24692832e-04 4.23555033e-04\n",
      " 4.21374356e-04 4.19123782e-04 4.17067987e-04 4.15120747e-04\n",
      " 4.12195297e-04 4.10725047e-04 4.09707343e-04 4.08637138e-04\n",
      " 4.06895701e-04 4.03879923e-04 4.01253785e-04 3.99567828e-04\n",
      " 3.97068821e-04 3.96183409e-04 3.95059587e-04 3.93725020e-04\n",
      " 3.91887410e-04 3.85529329e-04 3.84801483e-04 3.83681942e-04\n",
      " 3.83109024e-04 3.81039342e-04 3.80372110e-04 3.76684440e-04\n",
      " 3.75280727e-04 3.71988643e-04 3.70097058e-04 3.67688810e-04\n",
      " 3.66896045e-04 3.65321310e-04 3.64600336e-04 3.61720896e-04\n",
      " 3.59172821e-04 3.58364184e-04 3.56610841e-04 3.56416588e-04\n",
      " 3.52847606e-04 3.49177495e-04 3.47812420e-04 3.45504472e-04\n",
      " 3.42996200e-04 3.40789269e-04 3.39311746e-04 3.36356420e-04\n",
      " 3.34583281e-04 3.34181806e-04 3.32266075e-04 3.31241643e-04\n",
      " 3.28724344e-04 3.26390508e-04 3.25013032e-04 3.22957608e-04\n",
      " 3.21510477e-04 3.19782954e-04 3.17690010e-04 3.16894887e-04\n",
      " 3.16167064e-04 3.12548169e-04 3.11173729e-04 3.09039337e-04\n",
      " 3.08288271e-04 3.07208961e-04 3.05457665e-04 3.04554888e-04\n",
      " 3.01596405e-04 3.00795825e-04 2.98709134e-04 2.94711388e-04\n",
      " 2.94065814e-04 2.92854602e-04 2.89457077e-04 2.89232254e-04\n",
      " 2.84973286e-04 2.83856092e-04 2.82725252e-04 2.80088741e-04\n",
      " 2.79810465e-04 2.77112496e-04 2.74967080e-04 2.73571458e-04\n",
      " 2.72473228e-04 2.70559697e-04 2.69220714e-04 2.67899098e-04\n",
      " 2.65200166e-04 2.62365869e-04 2.62099358e-04 2.60115096e-04\n",
      " 2.57820819e-04 2.56902980e-04 2.54280197e-04 2.52690692e-04\n",
      " 2.51482211e-04 2.49140811e-04 2.48900270e-04 2.47008358e-04\n",
      " 2.45959361e-04 2.43969576e-04 2.42689536e-04 2.41519248e-04\n",
      " 2.40345470e-04 2.37862972e-04 2.36077178e-04 2.33884168e-04\n",
      " 2.33400103e-04 2.32456552e-04 2.31307674e-04 2.29109831e-04\n",
      " 2.28897753e-04 2.26471631e-04 2.24116460e-04 2.22340091e-04\n",
      " 2.20910767e-04 2.20381042e-04 2.19250801e-04 2.17960187e-04\n",
      " 2.16750271e-04 2.15677623e-04 2.15466799e-04 2.15466799e-04\n",
      " 2.15466799e-04 2.15466799e-04 2.15466799e-04 2.15196887e-04\n",
      " 2.14636210e-04 2.13639912e-04 2.12677601e-04 2.11747763e-04\n",
      " 2.09561905e-04 2.08695242e-04 2.07644876e-04 2.06876490e-04\n",
      " 2.06051854e-04 2.05239081e-04 2.03909967e-04 2.01303576e-04\n",
      " 2.00772149e-04 2.00016688e-04 1.97594053e-04 1.96833510e-04\n",
      " 1.95895150e-04 1.94193186e-04 1.92859619e-04 1.90788088e-04\n",
      " 1.88911752e-04 1.88770675e-04 1.87888062e-04 1.85868359e-04\n",
      " 1.84838179e-04 1.83351820e-04 1.81590933e-04 1.79628664e-04\n",
      " 1.78551871e-04 1.78187942e-04 1.75983569e-04 1.74549659e-04\n",
      " 1.74229446e-04 1.72259483e-04 1.69815539e-04 1.69305078e-04\n",
      " 1.67700911e-04 1.66073137e-04 1.65834527e-04 1.63394911e-04\n",
      " 1.62262407e-04 1.61888688e-04 1.60659584e-04 1.59964035e-04\n",
      " 1.57945193e-04 1.56141839e-04 1.54768386e-04 1.52318854e-04\n",
      " 1.51491724e-04 1.50523827e-04 1.48205168e-04 1.46780230e-04\n",
      " 1.43951089e-04 1.43243299e-04 1.41621858e-04 1.40800681e-04\n",
      " 1.39872534e-04 1.37324036e-04 1.36878411e-04 1.36337529e-04\n",
      " 1.33822901e-04 1.32169022e-04 1.31752053e-04 1.29946248e-04\n",
      " 1.28666625e-04 1.27584810e-04 1.27066898e-04 1.25301368e-04\n",
      " 1.25116024e-04 1.22654432e-04 1.21274475e-04 1.19001543e-04\n",
      " 1.18331949e-04 1.17786024e-04 1.15909613e-04 1.13751957e-04\n",
      " 1.12552322e-04 1.11820076e-04 1.09411244e-04 1.09098950e-04\n",
      " 1.08296756e-04 1.06190743e-04 1.05402074e-04 1.04540698e-04\n",
      " 1.03094984e-04 1.01120048e-04 1.00662817e-04 9.82609506e-05\n",
      " 9.76240416e-05 9.73741485e-05 9.64221737e-05 9.42789216e-05\n",
      " 9.29336196e-05 9.16067444e-05 9.04754189e-05 8.92325241e-05\n",
      " 8.85213494e-05 8.69423007e-05 8.58313569e-05 8.57206716e-05\n",
      " 8.53224816e-05 8.36044243e-05 8.17343329e-05 8.01012251e-05\n",
      " 7.78863168e-05 7.76423529e-05 7.65060419e-05 7.61076112e-05\n",
      " 7.37520171e-05 7.29619997e-05 7.10877593e-05 7.07106703e-05\n",
      " 6.82281283e-05 6.64889812e-05 6.51927273e-05 6.46224996e-05\n",
      " 6.26662307e-05 6.10244117e-05 6.04004793e-05 5.97570343e-05\n",
      " 5.83408637e-05 5.73171976e-05 5.66108912e-05 5.57471505e-05\n",
      " 5.46492454e-05 5.24750563e-05 5.10519631e-05 5.01264439e-05\n",
      " 4.84897091e-05 4.75879473e-05 4.67163684e-05 4.55078353e-05\n",
      " 4.53151911e-05 4.31964284e-05 4.18037108e-05 4.11344984e-05\n",
      " 3.99416884e-05 3.90886049e-05 3.73064602e-05 3.68810303e-05\n",
      " 3.57975188e-05 3.50139881e-05 3.35896379e-05 3.32679157e-05\n",
      " 3.02240778e-05 2.85728379e-05 2.81987059e-05 2.71336298e-05\n",
      " 2.64690495e-05 2.53969160e-05 2.46746691e-05 2.29406232e-05\n",
      " 2.23145491e-05 2.16579410e-05 2.05502730e-05 2.03149530e-05\n",
      " 1.96530901e-05 1.88263340e-05 1.78744468e-05 1.62256594e-05\n",
      " 1.53480435e-05 1.48315676e-05 1.42327989e-05 1.39983783e-05\n",
      " 1.28747924e-05 1.27484255e-05]\n"
     ]
    }
   ],
   "source": [
    "from sklearn.decomposition import PCA\n",
    "pca = PCA(n_components=750)# since we do not know how many eigenvectors\n",
    "# are need we keep the value of n components = None so that we can the\n",
    "# eigenvalues of all the evectors to figure out the best ones\n",
    "x_train = pca.fit_transform(x_train)\n",
    "x_test = pca.transform(x_test)\n",
    "explained_variance = pca.explained_variance_ratio_\n",
    "print(explained_variance)\n",
    "# after all the evalues are obtained select the number of evectors and replace\n",
    "# the value of n_components by that number\n"
   ]
  },
  {
   "cell_type": "markdown",
   "metadata": {},
   "source": [
    "##### SVM"
   ]
  },
  {
   "cell_type": "code",
   "execution_count": 10,
   "metadata": {},
   "outputs": [
    {
     "data": {
      "text/plain": [
       "SVC(kernel='linear', random_state=24)"
      ]
     },
     "execution_count": 10,
     "metadata": {},
     "output_type": "execute_result"
    }
   ],
   "source": [
    "from sklearn.svm import SVC\n",
    "classifier = SVC(kernel='linear',random_state=24)\n",
    "classifier.fit(x_train,y_train)\n"
   ]
  },
  {
   "cell_type": "code",
   "execution_count": 11,
   "metadata": {},
   "outputs": [
    {
     "name": "stdout",
     "output_type": "stream",
     "text": [
      "[1 0 1 1 1 1 1 0 1 1 1 0 0 0 0 0 1 0 1 1 1 1 0 1 1 0 0 1 0 1 0 1 1 0 0 1 0\n",
      " 1 1 0 1 1 1 0 1 1 1 1 0 1 1 1 0 1 0 1 1 0 0 0 1 1 0 1 0 1 1 0 0 0 1 1 1 1\n",
      " 1 1 1 1 0 0 1 1 0 0 0 1 0 1 0 0 0 1 0 0 1 0 1 0 0 0 0 1 1 0 1 0 1 1 1 1 1\n",
      " 1 1 1 1 0 0 0 1 0 1 1 1 0 0 0 1 0 1 0 0 1 1 0 0 1 0 0 1 0 0 0 1 1 1 1 0 1\n",
      " 1 1 1 1 0 1 0 1 1 0 0 1 1 1 1 0 0 1 1 0 0 1 1 0 1 0 0 1 0 0 1 0 1 1 0 0 0\n",
      " 1 0 0 1 1 1 0 0 0 1 0 1 1 0 1]\n"
     ]
    }
   ],
   "source": [
    "y_pred = classifier.predict(x_test)\n",
    "print(y_pred)\n"
   ]
  },
  {
   "cell_type": "code",
   "execution_count": 12,
   "metadata": {},
   "outputs": [
    {
     "name": "stdout",
     "output_type": "stream",
     "text": [
      "0.82\n",
      "[[74 21]\n",
      " [15 90]]\n"
     ]
    },
    {
     "data": {
      "image/png": "[encoded data removed]",
      "text/plain": [
       "<Figure size 432x288 with 2 Axes>"
      ]
     },
     "metadata": {
      "needs_background": "light"
     },
     "output_type": "display_data"
    }
   ],
   "source": [
    "#Creating the confusion matrix and calculating the accuracy score\n",
    "from sklearn.metrics import plot_confusion_matrix, accuracy_score, confusion_matrix\n",
    "acc = accuracy_score(y_test,y_pred)\n",
    "print(acc)\n",
    "cm = confusion_matrix(y_test,y_pred)\n",
    "print(cm)\n",
    "plot_confusion_matrix(classifier,x_test,y_test,cmap=plt.cm.Blues)\n",
    "plt.show()\n"
   ]
  },
  {
   "cell_type": "code",
   "execution_count": null,
   "metadata": {},
   "outputs": [],
   "source": []
  },
  {
   "cell_type": "code",
   "execution_count": null,
   "metadata": {},
   "outputs": [],
   "source": []
  },
  {
   "cell_type": "code",
   "execution_count": null,
   "metadata": {},
   "outputs": [],
   "source": []
  },
  {
   "cell_type": "code",
   "execution_count": 13,
   "metadata": {},
   "outputs": [],
   "source": [
    "# classifier.fit(x_train,y_train)"
   ]
  },
  {
   "cell_type": "code",
   "execution_count": null,
   "metadata": {},
   "outputs": [],
   "source": [
    "               "
   ]
  },
  {
   "cell_type": "code",
   "execution_count": 14,
   "metadata": {},
   "outputs": [],
   "source": [
    "# from sklearn.metrics import plot_confusion_matrix,accuracy_score\n",
    "# acc=accuracy_score(y_test,y_pred)\n",
    "# print(acc)\n",
    "# plot_confusion_matrix(classifier,x_test,y_test)"
   ]
  },
  {
   "cell_type": "code",
   "execution_count": null,
   "metadata": {},
   "outputs": [],
   "source": [
    "\n"
   ]
  }
 ],
 "metadata": {
  "kernelspec": {
   "display_name": "Python 3",
   "language": "python",
   "name": "python3"
  },
  "language_info": {
   "codemirror_mode": {
    "name": "ipython",
    "version": 3
   },
   "file_extension": ".py",
   "mimetype": "text/x-python",
   "name": "python",
   "nbconvert_exporter": "python",
   "pygments_lexer": "ipython3",
   "version": "3.7.3"
  },
  "varInspector": {
   "cols": {
    "lenName": 16,
    "lenType": 16,
    "lenVar": 40
   },
   "kernels_config": {
    "python": {
     "delete_cmd_postfix": "",
     "delete_cmd_prefix": "del ",
     "library": "var_list.py",
     "varRefreshCmd": "print(var_dic_list())"
    },
    "r": {
     "delete_cmd_postfix": ") ",
     "delete_cmd_prefix": "rm(",
     "library": "var_list.r",
     "varRefreshCmd": "cat(var_dic_list()) "
    }
   },
   "types_to_exclude": [
    "module",
    "function",
    "builtin_function_or_method",
    "instance",
    "_Feature"
   ],
   "window_display": false
  }
 },
 "nbformat": 4,
 "nbformat_minor": 4
}
